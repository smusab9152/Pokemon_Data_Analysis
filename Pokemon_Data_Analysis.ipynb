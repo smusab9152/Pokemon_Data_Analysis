{
 "cells": [
  {
   "cell_type": "markdown",
   "id": "9f81a2a5-f559-4531-9431-db9f7da8fe0f",
   "metadata": {},
   "source": [
    "### Analysis Questions to answer in this dataset"
   ]
  },
  {
   "cell_type": "markdown",
   "id": "434e563b-2064-4eb3-a935-4d615559d8f9",
   "metadata": {},
   "source": [
    "##### General Analysis Questions\n",
    "- How do the average stats (HP, Attack, Defense, Sp. Atk, Sp. Def, and Speed) compare across different generations of Pokémon?\n",
    "- Which Pokémon type (Type 1) has the highest average Attack stat? What about the lowest?\n",
    "- Is there a significant difference in the average total stats between Legendary and non-Legendary Pokémon?\n",
    "- What is the distribution of Pokémon types (Type 1 and Type 2) in the dataset? Which types are the most and least common?\n",
    "\n",
    "##### Comparative and Relationship Questions\n",
    "- Is there a correlation between a Pokémon's Speed and its Attack stat?\n",
    "- How do the stats of Pokémon with a dual type (e.g., Fire/Flying) compare to those with a single type?\n",
    "- Which Pokémon has the highest individual stat for each category (HP, Attack, Defense, etc.)?\n",
    "\n",
    "##### Specific Analysis Questions\n",
    "- How many Pokémon are present in each generation?\n",
    "- What is the most common Pokémon type combination?\n",
    "- How do the average stats of each Pokémon type (Type 1) compare to each other? For instance, do Water-type Pokémon generally have higher HP than Fire-type Pokémon?"
   ]
  },
  {
   "cell_type": "markdown",
   "id": "777fc0e3-68b0-4211-8505-1f3ca823d22b",
   "metadata": {
    "jp-MarkdownHeadingCollapsed": true
   },
   "source": [
    "### Importing libraries and Data Processing"
   ]
  },
  {
   "cell_type": "code",
   "execution_count": 40,
   "id": "60c8993d-e01b-4c1d-87db-7b5208f948c7",
   "metadata": {},
   "outputs": [],
   "source": [
    "import pandas as pd\n",
    "import numpy as np\n",
    "import  matplotlib.pyplot as plt"
   ]
  },
  {
   "cell_type": "code",
   "execution_count": 4,
   "id": "48339731-5df9-4803-ad9d-a9ccec0c37a8",
   "metadata": {},
   "outputs": [],
   "source": [
    "#Loading the dataset\n",
    "data = pd.read_csv(\"pokemon_data.csv\")"
   ]
  },
  {
   "cell_type": "code",
   "execution_count": 44,
   "id": "de2db48f-8631-41f6-8598-e24f3eea99d3",
   "metadata": {},
   "outputs": [],
   "source": [
    "data[\"Total_Stats\"] = data[\"HP\"] + data[\"Attack\"] + data[\"Defense\"] + data[\"Sp. Atk\"] + data[\"Sp. Def\"] + data[\"Speed\"]"
   ]
  },
  {
   "cell_type": "code",
   "execution_count": 87,
   "id": "49bc2fae-9785-432c-a3d8-0b0a4667e4e7",
   "metadata": {
    "scrolled": true
   },
   "outputs": [
    {
     "name": "stdout",
     "output_type": "stream",
     "text": [
      "<class 'pandas.core.frame.DataFrame'>\n",
      "RangeIndex: 800 entries, 0 to 799\n",
      "Data columns (total 13 columns):\n",
      " #   Column       Non-Null Count  Dtype \n",
      "---  ------       --------------  ----- \n",
      " 0   #            800 non-null    int64 \n",
      " 1   Name         800 non-null    object\n",
      " 2   Type 1       800 non-null    object\n",
      " 3   Type 2       414 non-null    object\n",
      " 4   HP           800 non-null    int64 \n",
      " 5   Attack       800 non-null    int64 \n",
      " 6   Defense      800 non-null    int64 \n",
      " 7   Sp. Atk      800 non-null    int64 \n",
      " 8   Sp. Def      800 non-null    int64 \n",
      " 9   Speed        800 non-null    int64 \n",
      " 10  Generation   800 non-null    int64 \n",
      " 11  Legendary    800 non-null    bool  \n",
      " 12  Total_Stats  800 non-null    int64 \n",
      "dtypes: bool(1), int64(9), object(3)\n",
      "memory usage: 75.9+ KB\n"
     ]
    }
   ],
   "source": [
    "data.info()"
   ]
  },
  {
   "cell_type": "code",
   "execution_count": 6,
   "id": "abc920c6-1fbd-4be8-9d1f-d9edaac3871d",
   "metadata": {},
   "outputs": [
    {
     "data": {
      "text/html": [
       "<div>\n",
       "<style scoped>\n",
       "    .dataframe tbody tr th:only-of-type {\n",
       "        vertical-align: middle;\n",
       "    }\n",
       "\n",
       "    .dataframe tbody tr th {\n",
       "        vertical-align: top;\n",
       "    }\n",
       "\n",
       "    .dataframe thead th {\n",
       "        text-align: right;\n",
       "    }\n",
       "</style>\n",
       "<table border=\"1\" class=\"dataframe\">\n",
       "  <thead>\n",
       "    <tr style=\"text-align: right;\">\n",
       "      <th></th>\n",
       "      <th>#</th>\n",
       "      <th>Name</th>\n",
       "      <th>Type 1</th>\n",
       "      <th>Type 2</th>\n",
       "      <th>HP</th>\n",
       "      <th>Attack</th>\n",
       "      <th>Defense</th>\n",
       "      <th>Sp. Atk</th>\n",
       "      <th>Sp. Def</th>\n",
       "      <th>Speed</th>\n",
       "      <th>Generation</th>\n",
       "      <th>Legendary</th>\n",
       "    </tr>\n",
       "  </thead>\n",
       "  <tbody>\n",
       "    <tr>\n",
       "      <th>0</th>\n",
       "      <td>1</td>\n",
       "      <td>Bulbasaur</td>\n",
       "      <td>Grass</td>\n",
       "      <td>Poison</td>\n",
       "      <td>45</td>\n",
       "      <td>49</td>\n",
       "      <td>49</td>\n",
       "      <td>65</td>\n",
       "      <td>65</td>\n",
       "      <td>45</td>\n",
       "      <td>1</td>\n",
       "      <td>False</td>\n",
       "    </tr>\n",
       "    <tr>\n",
       "      <th>1</th>\n",
       "      <td>2</td>\n",
       "      <td>Ivysaur</td>\n",
       "      <td>Grass</td>\n",
       "      <td>Poison</td>\n",
       "      <td>60</td>\n",
       "      <td>62</td>\n",
       "      <td>63</td>\n",
       "      <td>80</td>\n",
       "      <td>80</td>\n",
       "      <td>60</td>\n",
       "      <td>1</td>\n",
       "      <td>False</td>\n",
       "    </tr>\n",
       "    <tr>\n",
       "      <th>2</th>\n",
       "      <td>3</td>\n",
       "      <td>Venusaur</td>\n",
       "      <td>Grass</td>\n",
       "      <td>Poison</td>\n",
       "      <td>80</td>\n",
       "      <td>82</td>\n",
       "      <td>83</td>\n",
       "      <td>100</td>\n",
       "      <td>100</td>\n",
       "      <td>80</td>\n",
       "      <td>1</td>\n",
       "      <td>False</td>\n",
       "    </tr>\n",
       "    <tr>\n",
       "      <th>3</th>\n",
       "      <td>3</td>\n",
       "      <td>VenusaurMega Venusaur</td>\n",
       "      <td>Grass</td>\n",
       "      <td>Poison</td>\n",
       "      <td>80</td>\n",
       "      <td>100</td>\n",
       "      <td>123</td>\n",
       "      <td>122</td>\n",
       "      <td>120</td>\n",
       "      <td>80</td>\n",
       "      <td>1</td>\n",
       "      <td>False</td>\n",
       "    </tr>\n",
       "    <tr>\n",
       "      <th>4</th>\n",
       "      <td>4</td>\n",
       "      <td>Charmander</td>\n",
       "      <td>Fire</td>\n",
       "      <td>NaN</td>\n",
       "      <td>39</td>\n",
       "      <td>52</td>\n",
       "      <td>43</td>\n",
       "      <td>60</td>\n",
       "      <td>50</td>\n",
       "      <td>65</td>\n",
       "      <td>1</td>\n",
       "      <td>False</td>\n",
       "    </tr>\n",
       "  </tbody>\n",
       "</table>\n",
       "</div>"
      ],
      "text/plain": [
       "   #                   Name Type 1  Type 2  HP  Attack  Defense  Sp. Atk  \\\n",
       "0  1              Bulbasaur  Grass  Poison  45      49       49       65   \n",
       "1  2                Ivysaur  Grass  Poison  60      62       63       80   \n",
       "2  3               Venusaur  Grass  Poison  80      82       83      100   \n",
       "3  3  VenusaurMega Venusaur  Grass  Poison  80     100      123      122   \n",
       "4  4             Charmander   Fire     NaN  39      52       43       60   \n",
       "\n",
       "   Sp. Def  Speed  Generation  Legendary  \n",
       "0       65     45           1      False  \n",
       "1       80     60           1      False  \n",
       "2      100     80           1      False  \n",
       "3      120     80           1      False  \n",
       "4       50     65           1      False  "
      ]
     },
     "execution_count": 6,
     "metadata": {},
     "output_type": "execute_result"
    }
   ],
   "source": [
    "data.head()"
   ]
  },
  {
   "cell_type": "code",
   "execution_count": 41,
   "id": "6bb2fb3a-9163-41bb-b3d1-efb170a5626e",
   "metadata": {},
   "outputs": [
    {
     "data": {
      "text/html": [
       "<div>\n",
       "<style scoped>\n",
       "    .dataframe tbody tr th:only-of-type {\n",
       "        vertical-align: middle;\n",
       "    }\n",
       "\n",
       "    .dataframe tbody tr th {\n",
       "        vertical-align: top;\n",
       "    }\n",
       "\n",
       "    .dataframe thead th {\n",
       "        text-align: right;\n",
       "    }\n",
       "</style>\n",
       "<table border=\"1\" class=\"dataframe\">\n",
       "  <thead>\n",
       "    <tr style=\"text-align: right;\">\n",
       "      <th></th>\n",
       "      <th>#</th>\n",
       "      <th>HP</th>\n",
       "      <th>Attack</th>\n",
       "      <th>Defense</th>\n",
       "      <th>Sp. Atk</th>\n",
       "      <th>Sp. Def</th>\n",
       "      <th>Speed</th>\n",
       "      <th>Generation</th>\n",
       "      <th>Total_Stats</th>\n",
       "    </tr>\n",
       "  </thead>\n",
       "  <tbody>\n",
       "    <tr>\n",
       "      <th>count</th>\n",
       "      <td>800.000000</td>\n",
       "      <td>800.000000</td>\n",
       "      <td>800.000000</td>\n",
       "      <td>800.000000</td>\n",
       "      <td>800.000000</td>\n",
       "      <td>800.000000</td>\n",
       "      <td>800.000000</td>\n",
       "      <td>800.00000</td>\n",
       "      <td>800.00000</td>\n",
       "    </tr>\n",
       "    <tr>\n",
       "      <th>mean</th>\n",
       "      <td>362.813750</td>\n",
       "      <td>69.258750</td>\n",
       "      <td>79.001250</td>\n",
       "      <td>73.842500</td>\n",
       "      <td>72.820000</td>\n",
       "      <td>71.902500</td>\n",
       "      <td>68.277500</td>\n",
       "      <td>3.32375</td>\n",
       "      <td>435.10250</td>\n",
       "    </tr>\n",
       "    <tr>\n",
       "      <th>std</th>\n",
       "      <td>208.343798</td>\n",
       "      <td>25.534669</td>\n",
       "      <td>32.457366</td>\n",
       "      <td>31.183501</td>\n",
       "      <td>32.722294</td>\n",
       "      <td>27.828916</td>\n",
       "      <td>29.060474</td>\n",
       "      <td>1.66129</td>\n",
       "      <td>119.96304</td>\n",
       "    </tr>\n",
       "    <tr>\n",
       "      <th>min</th>\n",
       "      <td>1.000000</td>\n",
       "      <td>1.000000</td>\n",
       "      <td>5.000000</td>\n",
       "      <td>5.000000</td>\n",
       "      <td>10.000000</td>\n",
       "      <td>20.000000</td>\n",
       "      <td>5.000000</td>\n",
       "      <td>1.00000</td>\n",
       "      <td>180.00000</td>\n",
       "    </tr>\n",
       "    <tr>\n",
       "      <th>25%</th>\n",
       "      <td>184.750000</td>\n",
       "      <td>50.000000</td>\n",
       "      <td>55.000000</td>\n",
       "      <td>50.000000</td>\n",
       "      <td>49.750000</td>\n",
       "      <td>50.000000</td>\n",
       "      <td>45.000000</td>\n",
       "      <td>2.00000</td>\n",
       "      <td>330.00000</td>\n",
       "    </tr>\n",
       "    <tr>\n",
       "      <th>50%</th>\n",
       "      <td>364.500000</td>\n",
       "      <td>65.000000</td>\n",
       "      <td>75.000000</td>\n",
       "      <td>70.000000</td>\n",
       "      <td>65.000000</td>\n",
       "      <td>70.000000</td>\n",
       "      <td>65.000000</td>\n",
       "      <td>3.00000</td>\n",
       "      <td>450.00000</td>\n",
       "    </tr>\n",
       "    <tr>\n",
       "      <th>75%</th>\n",
       "      <td>539.250000</td>\n",
       "      <td>80.000000</td>\n",
       "      <td>100.000000</td>\n",
       "      <td>90.000000</td>\n",
       "      <td>95.000000</td>\n",
       "      <td>90.000000</td>\n",
       "      <td>90.000000</td>\n",
       "      <td>5.00000</td>\n",
       "      <td>515.00000</td>\n",
       "    </tr>\n",
       "    <tr>\n",
       "      <th>max</th>\n",
       "      <td>721.000000</td>\n",
       "      <td>255.000000</td>\n",
       "      <td>190.000000</td>\n",
       "      <td>230.000000</td>\n",
       "      <td>194.000000</td>\n",
       "      <td>230.000000</td>\n",
       "      <td>180.000000</td>\n",
       "      <td>6.00000</td>\n",
       "      <td>780.00000</td>\n",
       "    </tr>\n",
       "  </tbody>\n",
       "</table>\n",
       "</div>"
      ],
      "text/plain": [
       "                #          HP      Attack     Defense     Sp. Atk     Sp. Def  \\\n",
       "count  800.000000  800.000000  800.000000  800.000000  800.000000  800.000000   \n",
       "mean   362.813750   69.258750   79.001250   73.842500   72.820000   71.902500   \n",
       "std    208.343798   25.534669   32.457366   31.183501   32.722294   27.828916   \n",
       "min      1.000000    1.000000    5.000000    5.000000   10.000000   20.000000   \n",
       "25%    184.750000   50.000000   55.000000   50.000000   49.750000   50.000000   \n",
       "50%    364.500000   65.000000   75.000000   70.000000   65.000000   70.000000   \n",
       "75%    539.250000   80.000000  100.000000   90.000000   95.000000   90.000000   \n",
       "max    721.000000  255.000000  190.000000  230.000000  194.000000  230.000000   \n",
       "\n",
       "            Speed  Generation  Total_Stats  \n",
       "count  800.000000   800.00000    800.00000  \n",
       "mean    68.277500     3.32375    435.10250  \n",
       "std     29.060474     1.66129    119.96304  \n",
       "min      5.000000     1.00000    180.00000  \n",
       "25%     45.000000     2.00000    330.00000  \n",
       "50%     65.000000     3.00000    450.00000  \n",
       "75%     90.000000     5.00000    515.00000  \n",
       "max    180.000000     6.00000    780.00000  "
      ]
     },
     "execution_count": 41,
     "metadata": {},
     "output_type": "execute_result"
    }
   ],
   "source": [
    "data.describe()"
   ]
  },
  {
   "cell_type": "code",
   "execution_count": 146,
   "id": "a0bce2c1-662d-4339-996f-6ddc2b1d79d3",
   "metadata": {
    "scrolled": true
   },
   "outputs": [],
   "source": [
    "stats_cols = data[['HP','Attack','Defense','Sp. Atk','Sp. Def','Speed']]"
   ]
  },
  {
   "cell_type": "markdown",
   "id": "0cd43f57-3d34-42c1-b9b9-e5651b13bedd",
   "metadata": {
    "jp-MarkdownHeadingCollapsed": true
   },
   "source": [
    "### How do the average stats compare across different generations of Pokémon?"
   ]
  },
  {
   "cell_type": "code",
   "execution_count": 42,
   "id": "b867e426-8184-4ddf-98c7-e4fb132643a0",
   "metadata": {},
   "outputs": [
    {
     "name": "stdout",
     "output_type": "stream",
     "text": [
      "                   HP     Attack    Defense    Sp. Atk    Sp. Def      Speed\n",
      "Generation                                                                  \n",
      "1           65.819277  76.638554  70.861446  71.819277  69.090361  72.584337\n",
      "2           71.207547  72.028302  73.386792  65.943396  73.905660  61.811321\n",
      "3           66.543750  81.625000  74.100000  75.806250  71.225000  66.925000\n",
      "4           73.082645  82.867769  78.132231  76.404959  77.190083  71.338843\n",
      "5           71.787879  82.066667  72.327273  71.987879  68.739394  68.078788\n",
      "6           68.268293  75.804878  76.682927  74.292683  74.890244  66.439024\n"
     ]
    }
   ],
   "source": [
    "#Stats distribution based on generation\n",
    "avg_gen_stats = data.groupby(\"Generation\")[stats_cols].mean()\n",
    "print(avg_gen_stats)"
   ]
  },
  {
   "cell_type": "markdown",
   "id": "d7814c6b-a4e6-4837-9f91-53aca83bad55",
   "metadata": {
    "jp-MarkdownHeadingCollapsed": true
   },
   "source": [
    "### Which Pokémon type (Type 1) has the highest average Attack stat? What about the lowest?"
   ]
  },
  {
   "cell_type": "code",
   "execution_count": 53,
   "id": "3c110aa5-3dff-4d4d-95e5-88faad639a44",
   "metadata": {},
   "outputs": [
    {
     "name": "stdout",
     "output_type": "stream",
     "text": [
      "                 HP      Attack     Defense    Sp. Atk    Sp. Def       Speed\n",
      "Type 1                                                                       \n",
      "Bug       56.884058   70.971014   70.724638  53.869565  64.797101   61.681159\n",
      "Dark      66.806452   88.387097   70.225806  74.645161  69.516129   76.161290\n",
      "Dragon    83.312500  112.125000   86.375000  96.843750  88.843750   83.031250\n",
      "Electric  59.795455   69.090909   66.295455  90.022727  73.704545   84.500000\n",
      "Fairy     74.117647   61.529412   65.705882  78.529412  84.705882   48.588235\n",
      "Fighting  69.851852   96.777778   65.925926  53.111111  64.703704   66.074074\n",
      "Fire      69.903846   84.769231   67.769231  88.980769  72.211538   74.442308\n",
      "Flying    70.750000   78.750000   66.250000  94.250000  72.500000  102.500000\n",
      "Ghost     64.437500   73.781250   81.187500  79.343750  76.468750   64.343750\n",
      "Grass     67.271429   73.214286   70.800000  77.500000  70.428571   61.928571\n",
      "Ground    73.781250   95.750000   84.843750  56.468750  62.750000   63.906250\n",
      "Ice       72.000000   72.750000   71.416667  77.541667  76.291667   63.458333\n",
      "Normal    77.275510   73.469388   59.846939  55.816327  63.724490   71.551020\n",
      "Poison    67.250000   74.678571   68.821429  60.428571  64.392857   63.571429\n",
      "Psychic   70.631579   71.456140   67.684211  98.403509  86.280702   81.491228\n",
      "Rock      65.363636   92.863636  100.795455  63.340909  75.477273   55.909091\n",
      "Steel     65.222222   92.703704  126.370370  67.518519  80.629630   55.259259\n",
      "Water     72.062500   74.151786   72.946429  74.812500  70.517857   65.964286\n"
     ]
    }
   ],
   "source": [
    "avg_type1_stats = data.groupby(\"Type 1\")[stats_cols].mean()\n",
    "print(avg_type1_stats)"
   ]
  },
  {
   "cell_type": "markdown",
   "id": "c554c2b5-2898-4f1f-bc32-24d1fe3e1e67",
   "metadata": {
    "jp-MarkdownHeadingCollapsed": true
   },
   "source": [
    "### Is there a significant difference in the average total stats between Legendary and non-Legendary Pokémon?"
   ]
  },
  {
   "cell_type": "code",
   "execution_count": 52,
   "id": "358cc17f-75be-438f-b1d2-9a67aa7d87fc",
   "metadata": {},
   "outputs": [
    {
     "name": "stdout",
     "output_type": "stream",
     "text": [
      "                  HP      Attack    Defense     Sp. Atk     Sp. Def  \\\n",
      "Legendary                                                             \n",
      "False      67.182313   75.669388  71.559184   68.454422   68.892517   \n",
      "True       92.738462  116.676923  99.661538  122.184615  105.938462   \n",
      "\n",
      "                Speed  \n",
      "Legendary              \n",
      "False       65.455782  \n",
      "True       100.184615  \n"
     ]
    }
   ],
   "source": [
    "avg_legend_stats = data.groupby(\"Legendary\")[stats_cols].mean()\n",
    "print(avg_legend_stats)"
   ]
  },
  {
   "cell_type": "markdown",
   "id": "de006043-1c1b-4492-8d81-ea9f8df78c5f",
   "metadata": {
    "jp-MarkdownHeadingCollapsed": true
   },
   "source": [
    "### What is the distribution of Pokémon types (Type 1 and Type 2) in the dataset? Which types are the most and least common?"
   ]
  },
  {
   "cell_type": "code",
   "execution_count": 67,
   "id": "7b55773a-1e34-42c8-9628-fdcd4a49c3b4",
   "metadata": {},
   "outputs": [
    {
     "data": {
      "text/plain": [
       "Type 1    Type 2\n",
       "Normal    Flying    24\n",
       "Grass     Poison    15\n",
       "Bug       Flying    14\n",
       "          Poison    12\n",
       "Ghost     Grass     10\n",
       "                    ..\n",
       "Fire      Rock       1\n",
       "Ice       Ghost      1\n",
       "Fire      Dragon     1\n",
       "Fighting  Flying     1\n",
       "Water     Steel      1\n",
       "Name: count, Length: 136, dtype: int64"
      ]
     },
     "execution_count": 67,
     "metadata": {},
     "output_type": "execute_result"
    }
   ],
   "source": [
    "data_type = data[[\"Type 1\",\"Type 2\"]]\n",
    "data_type.value_counts()"
   ]
  },
  {
   "cell_type": "markdown",
   "id": "1edeb166-bcbe-40ad-8ca4-4505508c719e",
   "metadata": {
    "jp-MarkdownHeadingCollapsed": true
   },
   "source": [
    "###  Is there a correlation between a Pokémon's Speed and its Attack stat?"
   ]
  },
  {
   "cell_type": "code",
   "execution_count": 71,
   "id": "3b9c1f8d-6746-4ece-864b-6c6abb901cd7",
   "metadata": {
    "collapsed": true,
    "jupyter": {
     "outputs_hidden": true
    },
    "scrolled": true
   },
   "outputs": [
    {
     "data": {
      "text/html": [
       "<div>\n",
       "<style scoped>\n",
       "    .dataframe tbody tr th:only-of-type {\n",
       "        vertical-align: middle;\n",
       "    }\n",
       "\n",
       "    .dataframe tbody tr th {\n",
       "        vertical-align: top;\n",
       "    }\n",
       "\n",
       "    .dataframe thead th {\n",
       "        text-align: right;\n",
       "    }\n",
       "</style>\n",
       "<table border=\"1\" class=\"dataframe\">\n",
       "  <thead>\n",
       "    <tr style=\"text-align: right;\">\n",
       "      <th></th>\n",
       "      <th>Attack</th>\n",
       "      <th>Speed</th>\n",
       "    </tr>\n",
       "  </thead>\n",
       "  <tbody>\n",
       "    <tr>\n",
       "      <th>0</th>\n",
       "      <td>49</td>\n",
       "      <td>45</td>\n",
       "    </tr>\n",
       "    <tr>\n",
       "      <th>1</th>\n",
       "      <td>62</td>\n",
       "      <td>60</td>\n",
       "    </tr>\n",
       "    <tr>\n",
       "      <th>2</th>\n",
       "      <td>82</td>\n",
       "      <td>80</td>\n",
       "    </tr>\n",
       "    <tr>\n",
       "      <th>3</th>\n",
       "      <td>100</td>\n",
       "      <td>80</td>\n",
       "    </tr>\n",
       "    <tr>\n",
       "      <th>4</th>\n",
       "      <td>52</td>\n",
       "      <td>65</td>\n",
       "    </tr>\n",
       "    <tr>\n",
       "      <th>...</th>\n",
       "      <td>...</td>\n",
       "      <td>...</td>\n",
       "    </tr>\n",
       "    <tr>\n",
       "      <th>795</th>\n",
       "      <td>100</td>\n",
       "      <td>50</td>\n",
       "    </tr>\n",
       "    <tr>\n",
       "      <th>796</th>\n",
       "      <td>160</td>\n",
       "      <td>110</td>\n",
       "    </tr>\n",
       "    <tr>\n",
       "      <th>797</th>\n",
       "      <td>110</td>\n",
       "      <td>70</td>\n",
       "    </tr>\n",
       "    <tr>\n",
       "      <th>798</th>\n",
       "      <td>160</td>\n",
       "      <td>80</td>\n",
       "    </tr>\n",
       "    <tr>\n",
       "      <th>799</th>\n",
       "      <td>110</td>\n",
       "      <td>70</td>\n",
       "    </tr>\n",
       "  </tbody>\n",
       "</table>\n",
       "<p>800 rows × 2 columns</p>\n",
       "</div>"
      ],
      "text/plain": [
       "     Attack  Speed\n",
       "0        49     45\n",
       "1        62     60\n",
       "2        82     80\n",
       "3       100     80\n",
       "4        52     65\n",
       "..      ...    ...\n",
       "795     100     50\n",
       "796     160    110\n",
       "797     110     70\n",
       "798     160     80\n",
       "799     110     70\n",
       "\n",
       "[800 rows x 2 columns]"
      ]
     },
     "execution_count": 71,
     "metadata": {},
     "output_type": "execute_result"
    }
   ],
   "source": [
    "data[['Attack','Speed']]"
   ]
  },
  {
   "cell_type": "markdown",
   "id": "7daca796-39f7-4e27-9645-f7d9f307eee1",
   "metadata": {
    "jp-MarkdownHeadingCollapsed": true
   },
   "source": [
    "### How do the stats of Pokémon with a dual type compare to those with a single type?"
   ]
  },
  {
   "cell_type": "code",
   "execution_count": 88,
   "id": "d234d5ed-4d31-4962-8b04-e6d87840cd4f",
   "metadata": {},
   "outputs": [],
   "source": [
    "single_type = data[data[\"Type 2\"].isna()]\n",
    "multi_type = data[data[\"Type 2\"].notna()]"
   ]
  },
  {
   "cell_type": "code",
   "execution_count": 97,
   "id": "ecd21f1a-bf20-4684-af5d-3d2f541b5944",
   "metadata": {},
   "outputs": [
    {
     "data": {
      "text/plain": [
       "180"
      ]
     },
     "execution_count": 97,
     "metadata": {},
     "output_type": "execute_result"
    }
   ],
   "source": [
    "single_type['Total_Stats'].min()"
   ]
  },
  {
   "cell_type": "code",
   "execution_count": 98,
   "id": "42932f5a-7e2e-4f12-9ebd-4ffcb66a12ab",
   "metadata": {},
   "outputs": [
    {
     "data": {
      "text/plain": [
       "190"
      ]
     },
     "execution_count": 98,
     "metadata": {},
     "output_type": "execute_result"
    }
   ],
   "source": [
    "multi_type['Total_Stats'].min()"
   ]
  },
  {
   "cell_type": "markdown",
   "id": "ec37633f-53df-4bbd-bba5-f7b3e65a01a8",
   "metadata": {
    "jp-MarkdownHeadingCollapsed": true
   },
   "source": [
    "### Which Pokémon has the highest individual stat for each category (HP, Attack, Defense, etc.)?\n"
   ]
  },
  {
   "cell_type": "code",
   "execution_count": 121,
   "id": "a0690d06-9c65-4449-ac83-69e09b98a0f7",
   "metadata": {},
   "outputs": [
    {
     "name": "stdout",
     "output_type": "stream",
     "text": [
      "HP (255) Blissey\n",
      "Attack (190) MewtwoMega Mewtwo X\n",
      "Defense (230) SteelixMega Steelix, Shuckle, AggronMega Aggron\n",
      "Sp. Atk (194) MewtwoMega Mewtwo Y\n",
      "Sp. Def (230) Shuckle\n",
      "Speed (180) DeoxysSpeed Forme\n"
     ]
    }
   ],
   "source": [
    "max_stats = {}\n",
    "for col in stats_cols.columns:\n",
    "    max_stats[col] = stats_cols[col].max()\n",
    "    \n",
    "for stat, value in max_stats.items():\n",
    "    pokemon = data.loc[data[stat] == value, \"Name\"].values\n",
    "    print(f\"{stat} ({value}) {', '.join(pokemon)}\")"
   ]
  },
  {
   "cell_type": "markdown",
   "id": "73317c66-ef73-4958-9cf7-c11b5dec73e2",
   "metadata": {
    "jp-MarkdownHeadingCollapsed": true,
    "scrolled": true
   },
   "source": [
    "### How many Pokémon are present in each generation?"
   ]
  },
  {
   "cell_type": "code",
   "execution_count": 128,
   "id": "68416ef3-dff3-4806-b999-dc8bec079f6f",
   "metadata": {},
   "outputs": [
    {
     "data": {
      "text/plain": [
       "Generation\n",
       "1    166\n",
       "2    106\n",
       "3    160\n",
       "4    121\n",
       "5    165\n",
       "6     82\n",
       "Name: #, dtype: int64"
      ]
     },
     "execution_count": 128,
     "metadata": {},
     "output_type": "execute_result"
    }
   ],
   "source": [
    "pokemon_count = data.groupby(\"Generation\").count()\n",
    "pokemon_count['#']"
   ]
  },
  {
   "cell_type": "markdown",
   "id": "6afee7dc-e374-4c2e-ab4b-6dcefe473873",
   "metadata": {
    "jp-MarkdownHeadingCollapsed": true
   },
   "source": [
    "### What is the most common Pokémon type combination?"
   ]
  },
  {
   "cell_type": "code",
   "execution_count": 136,
   "id": "302c7527-0e20-42a9-b72e-86e4932a4aab",
   "metadata": {},
   "outputs": [
    {
     "data": {
      "text/plain": [
       "Type 1\n",
       "Water       112\n",
       "Normal       98\n",
       "Grass        70\n",
       "Bug          69\n",
       "Psychic      57\n",
       "Fire         52\n",
       "Electric     44\n",
       "Rock         44\n",
       "Dragon       32\n",
       "Ground       32\n",
       "Ghost        32\n",
       "Dark         31\n",
       "Poison       28\n",
       "Steel        27\n",
       "Fighting     27\n",
       "Ice          24\n",
       "Fairy        17\n",
       "Flying        4\n",
       "Name: count, dtype: int64"
      ]
     },
     "execution_count": 136,
     "metadata": {},
     "output_type": "execute_result"
    }
   ],
   "source": [
    "data[\"Type 1\"].value_counts()"
   ]
  },
  {
   "cell_type": "markdown",
   "id": "0f188da7-ee4a-4e4f-b114-7bc5f97d90fd",
   "metadata": {
    "jp-MarkdownHeadingCollapsed": true
   },
   "source": [
    "### How do the average stats of each Pokémon type (Type 1) compare to each other? For instance, do Water-type Pokémon generally have higher HP than Fire-type Pokémon?"
   ]
  },
  {
   "cell_type": "code",
   "execution_count": 148,
   "id": "bd9c1ba3-3ff5-4c10-901c-1de49d3512e8",
   "metadata": {
    "collapsed": true,
    "jupyter": {
     "outputs_hidden": true
    },
    "scrolled": true
   },
   "outputs": [
    {
     "name": "stdout",
     "output_type": "stream",
     "text": [
      "                 HP      Attack     Defense    Sp. Atk    Sp. Def       Speed\n",
      "Type 1                                                                       \n",
      "Bug       56.884058   70.971014   70.724638  53.869565  64.797101   61.681159\n",
      "Dark      66.806452   88.387097   70.225806  74.645161  69.516129   76.161290\n",
      "Dragon    83.312500  112.125000   86.375000  96.843750  88.843750   83.031250\n",
      "Electric  59.795455   69.090909   66.295455  90.022727  73.704545   84.500000\n",
      "Fairy     74.117647   61.529412   65.705882  78.529412  84.705882   48.588235\n",
      "Fighting  69.851852   96.777778   65.925926  53.111111  64.703704   66.074074\n",
      "Fire      69.903846   84.769231   67.769231  88.980769  72.211538   74.442308\n",
      "Flying    70.750000   78.750000   66.250000  94.250000  72.500000  102.500000\n",
      "Ghost     64.437500   73.781250   81.187500  79.343750  76.468750   64.343750\n",
      "Grass     67.271429   73.214286   70.800000  77.500000  70.428571   61.928571\n",
      "Ground    73.781250   95.750000   84.843750  56.468750  62.750000   63.906250\n",
      "Ice       72.000000   72.750000   71.416667  77.541667  76.291667   63.458333\n",
      "Normal    77.275510   73.469388   59.846939  55.816327  63.724490   71.551020\n",
      "Poison    67.250000   74.678571   68.821429  60.428571  64.392857   63.571429\n",
      "Psychic   70.631579   71.456140   67.684211  98.403509  86.280702   81.491228\n",
      "Rock      65.363636   92.863636  100.795455  63.340909  75.477273   55.909091\n",
      "Steel     65.222222   92.703704  126.370370  67.518519  80.629630   55.259259\n",
      "Water     72.062500   74.151786   72.946429  74.812500  70.517857   65.964286\n"
     ]
    }
   ],
   "source": [
    "type_data = data.groupby(\"Type 1\")[stats_cols.columns].mean()\n",
    "print(type_data)"
   ]
  },
  {
   "cell_type": "code",
   "execution_count": 152,
   "id": "b472dce8-0e24-48f9-8fe8-ae1c0e8c9400",
   "metadata": {},
   "outputs": [
    {
     "data": {
      "text/html": [
       "<div>\n",
       "<style scoped>\n",
       "    .dataframe tbody tr th:only-of-type {\n",
       "        vertical-align: middle;\n",
       "    }\n",
       "\n",
       "    .dataframe tbody tr th {\n",
       "        vertical-align: top;\n",
       "    }\n",
       "\n",
       "    .dataframe thead th {\n",
       "        text-align: right;\n",
       "    }\n",
       "</style>\n",
       "<table border=\"1\" class=\"dataframe\">\n",
       "  <thead>\n",
       "    <tr style=\"text-align: right;\">\n",
       "      <th></th>\n",
       "      <th>HP</th>\n",
       "      <th>Attack</th>\n",
       "      <th>Defense</th>\n",
       "      <th>Sp. Atk</th>\n",
       "      <th>Sp. Def</th>\n",
       "      <th>Speed</th>\n",
       "    </tr>\n",
       "    <tr>\n",
       "      <th>Type 1</th>\n",
       "      <th></th>\n",
       "      <th></th>\n",
       "      <th></th>\n",
       "      <th></th>\n",
       "      <th></th>\n",
       "      <th></th>\n",
       "    </tr>\n",
       "  </thead>\n",
       "  <tbody>\n",
       "    <tr>\n",
       "      <th>Water</th>\n",
       "      <td>72.062500</td>\n",
       "      <td>74.151786</td>\n",
       "      <td>72.946429</td>\n",
       "      <td>74.812500</td>\n",
       "      <td>70.517857</td>\n",
       "      <td>65.964286</td>\n",
       "    </tr>\n",
       "    <tr>\n",
       "      <th>Fire</th>\n",
       "      <td>69.903846</td>\n",
       "      <td>84.769231</td>\n",
       "      <td>67.769231</td>\n",
       "      <td>88.980769</td>\n",
       "      <td>72.211538</td>\n",
       "      <td>74.442308</td>\n",
       "    </tr>\n",
       "  </tbody>\n",
       "</table>\n",
       "</div>"
      ],
      "text/plain": [
       "               HP     Attack    Defense    Sp. Atk    Sp. Def      Speed\n",
       "Type 1                                                                  \n",
       "Water   72.062500  74.151786  72.946429  74.812500  70.517857  65.964286\n",
       "Fire    69.903846  84.769231  67.769231  88.980769  72.211538  74.442308"
      ]
     },
     "execution_count": 152,
     "metadata": {},
     "output_type": "execute_result"
    }
   ],
   "source": [
    "type_data.loc[[\"Water\",\"Fire\"]]"
   ]
  },
  {
   "cell_type": "code",
   "execution_count": null,
   "id": "100b1898-5ec7-4731-96ce-92f2eae125fa",
   "metadata": {},
   "outputs": [],
   "source": []
  }
 ],
 "metadata": {
  "kernelspec": {
   "display_name": "Python 3 (ipykernel)",
   "language": "python",
   "name": "python3"
  },
  "language_info": {
   "codemirror_mode": {
    "name": "ipython",
    "version": 3
   },
   "file_extension": ".py",
   "mimetype": "text/x-python",
   "name": "python",
   "nbconvert_exporter": "python",
   "pygments_lexer": "ipython3",
   "version": "3.8.0"
  }
 },
 "nbformat": 4,
 "nbformat_minor": 5
}
